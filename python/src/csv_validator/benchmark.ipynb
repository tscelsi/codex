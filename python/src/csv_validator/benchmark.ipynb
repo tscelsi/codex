{
 "cells": [
  {
   "cell_type": "code",
   "execution_count": null,
   "id": "4acf0fe2",
   "metadata": {},
   "outputs": [],
   "source": [
    "import csv\n",
    "import random\n",
    "import polars as pl\n",
    "import pandas as pd\n",
    "import sys\n",
    "import os\n",
    "from pydantic import BaseModel\n",
    "\n",
    "sys.path.append(os.path.abspath(os.path.join(os.getcwd(), \"..\")))\n",
    "from csv_validator.validator import (\n",
    "    CsvReader,\n",
    "    LazyCsvReader,\n",
    "    CsvValidator,\n",
    ")\n",
    "\n",
    "\n",
    "def create_benchmark():\n",
    "    with open(\"benchmark_1k.csv\", \"w\", newline=\"\") as f:\n",
    "        writer = csv.writer(f)\n",
    "        writer.writerow([\"a\", \"b\", \"c\"])\n",
    "        for i in range(1, 1000):\n",
    "            a = i\n",
    "            b = f\"val{i}\"\n",
    "            c = round(random.uniform(1.0, 5.0), 2)\n",
    "            writer.writerow([a, b, c])\n",
    "\n",
    "\n",
    "def create_complex_benchmark():\n",
    "    with open(\"benchmark_1m_complex.csv\", \"w\", newline=\"\") as f:\n",
    "        writer = csv.writer(f)\n",
    "        writer.writerow([\"a\", \"b\", \"c\", \"d\", \"e\", \"f\", \"g\", \"h\", \"i\", \"j\"])\n",
    "        for i in range(1, 1000001):\n",
    "            a = i\n",
    "            b = f\"val{i}\"\n",
    "            c = round(random.uniform(1.0, 5.0), 2)\n",
    "            d = f\"extra_val{i}\"\n",
    "            e = f\"extra_val{i}\"\n",
    "            f = f\"extra_val{i}\"\n",
    "            g = f\"extra_val{i}\"\n",
    "            h = f\"extra_val{i}\"\n",
    "            i = f\"extra_val{i}\"\n",
    "            j = f\"extra_val{i}\"\n",
    "            writer.writerow([a, b, c, d, e, f, g, h, i, j])\n",
    "\n",
    "\n",
    "class BenchmarkSchema(BaseModel):\n",
    "    a: int\n",
    "    b: str\n",
    "    c: float\n",
    "\n",
    "\n",
    "class ComplexBenchmarkSchema(BaseModel):\n",
    "    a: int\n",
    "    b: str\n",
    "    c: float\n",
    "    d: str\n",
    "    e: str\n",
    "    f: str\n",
    "    g: str\n",
    "    h: str\n",
    "    i: str\n",
    "    j: str"
   ]
  },
  {
   "cell_type": "code",
   "execution_count": 2,
   "id": "193107ff",
   "metadata": {},
   "outputs": [],
   "source": [
    "eager_reader = CsvReader(\"benchmark_1m_complex.csv\")"
   ]
  },
  {
   "cell_type": "code",
   "execution_count": 3,
   "id": "5a53e4ee",
   "metadata": {},
   "outputs": [],
   "source": [
    "lazy_reader = LazyCsvReader(\"benchmark_1m_complex.csv\")"
   ]
  },
  {
   "cell_type": "code",
   "execution_count": null,
   "id": "1a84823b",
   "metadata": {},
   "outputs": [],
   "source": [
    "eager_v = CsvValidator(schema=BenchmarkSchema, reader=eager_reader)\n",
    "lazy_v = CsvValidator(schema=BenchmarkSchema, reader=lazy_reader)"
   ]
  },
  {
   "cell_type": "code",
   "execution_count": 5,
   "id": "87fe27ef",
   "metadata": {},
   "outputs": [
    {
     "name": "stdout",
     "output_type": "stream",
     "text": [
      "1.48 s ± 153 ms per loop (mean ± std. dev. of 7 runs, 1 loop each)\n"
     ]
    }
   ],
   "source": [
    "%%timeit\n",
    "eager_v.validate_all()"
   ]
  },
  {
   "cell_type": "code",
   "execution_count": 6,
   "id": "4849db20",
   "metadata": {},
   "outputs": [
    {
     "name": "stdout",
     "output_type": "stream",
     "text": [
      "2.99 s ± 64.5 ms per loop (mean ± std. dev. of 7 runs, 1 loop each)\n"
     ]
    }
   ],
   "source": [
    "%%timeit\n",
    "lazy_v.validate_all()"
   ]
  },
  {
   "cell_type": "code",
   "execution_count": 4,
   "id": "72ef2b5b",
   "metadata": {},
   "outputs": [],
   "source": [
    "filename = \"benchmark_1m_complex.csv\"\n",
    "pl_reader = PolarsReader(pl.read_csv(filename))\n",
    "pd_reader = PandasReader(pd.read_csv(filename))\n",
    "csv_reader = CsvReader(filename)"
   ]
  },
  {
   "cell_type": "code",
   "execution_count": 7,
   "id": "7c35b275",
   "metadata": {},
   "outputs": [
    {
     "name": "stdout",
     "output_type": "stream",
     "text": [
      "7.55 s ± 44.1 ms per loop (mean ± std. dev. of 7 runs, 1 loop each)\n"
     ]
    }
   ],
   "source": [
    "%%timeit\n",
    "validator = PandasValidator(BenchmarkSchema, pd_reader)\n",
    "validator.validate_all()"
   ]
  },
  {
   "cell_type": "code",
   "execution_count": 8,
   "id": "b854c1a4",
   "metadata": {},
   "outputs": [
    {
     "name": "stderr",
     "output_type": "stream",
     "text": [
      "/Users/thomasscelsi/Documents/programming/codex/src/csv_validator/validator.py:68: MapWithoutReturnDtypeWarning: Calling `map_elements` without specifying `return_dtype` can lead to unpredictable results. Specify `return_dtype` to silence this warning.\n",
      "  \n",
      "/Users/thomasscelsi/Documents/programming/codex/src/csv_validator/validator.py:68: MapWithoutReturnDtypeWarning: Calling `map_elements` without specifying `return_dtype` can lead to unpredictable results. Specify `return_dtype` to silence this warning.\n",
      "  \n",
      "/Users/thomasscelsi/Documents/programming/codex/src/csv_validator/validator.py:68: MapWithoutReturnDtypeWarning: Calling `map_elements` without specifying `return_dtype` can lead to unpredictable results. Specify `return_dtype` to silence this warning.\n",
      "  \n",
      "/Users/thomasscelsi/Documents/programming/codex/src/csv_validator/validator.py:68: MapWithoutReturnDtypeWarning: Calling `map_elements` without specifying `return_dtype` can lead to unpredictable results. Specify `return_dtype` to silence this warning.\n",
      "  \n",
      "/Users/thomasscelsi/Documents/programming/codex/src/csv_validator/validator.py:68: MapWithoutReturnDtypeWarning: Calling `map_elements` without specifying `return_dtype` can lead to unpredictable results. Specify `return_dtype` to silence this warning.\n",
      "  \n",
      "/Users/thomasscelsi/Documents/programming/codex/src/csv_validator/validator.py:68: MapWithoutReturnDtypeWarning: Calling `map_elements` without specifying `return_dtype` can lead to unpredictable results. Specify `return_dtype` to silence this warning.\n",
      "  \n",
      "/Users/thomasscelsi/Documents/programming/codex/src/csv_validator/validator.py:68: MapWithoutReturnDtypeWarning: Calling `map_elements` without specifying `return_dtype` can lead to unpredictable results. Specify `return_dtype` to silence this warning.\n",
      "  \n",
      "/Users/thomasscelsi/Documents/programming/codex/src/csv_validator/validator.py:68: MapWithoutReturnDtypeWarning: Calling `map_elements` without specifying `return_dtype` can lead to unpredictable results. Specify `return_dtype` to silence this warning.\n",
      "  \n"
     ]
    },
    {
     "name": "stdout",
     "output_type": "stream",
     "text": [
      "2.28 s ± 78.8 ms per loop (mean ± std. dev. of 7 runs, 1 loop each)\n"
     ]
    }
   ],
   "source": [
    "%%timeit\n",
    "validator = PolarsValidator(BenchmarkSchema, pl_reader)\n",
    "validator.validate_all()"
   ]
  },
  {
   "cell_type": "code",
   "execution_count": 9,
   "id": "c57edfcb",
   "metadata": {},
   "outputs": [
    {
     "name": "stdout",
     "output_type": "stream",
     "text": [
      "1.66 s ± 72.8 ms per loop (mean ± std. dev. of 7 runs, 1 loop each)\n"
     ]
    }
   ],
   "source": [
    "%%timeit\n",
    "validator = SlowerIterValidator(BenchmarkSchema, csv_reader)\n",
    "validator.validate_all()"
   ]
  },
  {
   "cell_type": "code",
   "execution_count": 5,
   "id": "cbc2aa66",
   "metadata": {},
   "outputs": [
    {
     "name": "stdout",
     "output_type": "stream",
     "text": [
      "1.03 s ± 94.3 ms per loop (mean ± std. dev. of 7 runs, 1 loop each)\n"
     ]
    }
   ],
   "source": [
    "%%timeit\n",
    "validator = IterValidator(BenchmarkSchema, csv_reader)\n",
    "validator.validate_all()"
   ]
  },
  {
   "cell_type": "code",
   "execution_count": null,
   "id": "f1405442",
   "metadata": {},
   "outputs": [],
   "source": []
  }
 ],
 "metadata": {
  "kernelspec": {
   "display_name": ".venv",
   "language": "python",
   "name": "python3"
  },
  "language_info": {
   "codemirror_mode": {
    "name": "ipython",
    "version": 3
   },
   "file_extension": ".py",
   "mimetype": "text/x-python",
   "name": "python",
   "nbconvert_exporter": "python",
   "pygments_lexer": "ipython3",
   "version": "3.12.4"
  }
 },
 "nbformat": 4,
 "nbformat_minor": 5
}
