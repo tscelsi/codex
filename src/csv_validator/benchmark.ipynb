{
 "cells": [
  {
   "cell_type": "code",
   "execution_count": 1,
   "id": "4acf0fe2",
   "metadata": {},
   "outputs": [],
   "source": [
    "import csv\n",
    "import random\n",
    "import polars as pl\n",
    "import pandas as pd\n",
    "import sys\n",
    "import os\n",
    "from pydantic import BaseModel\n",
    "sys.path.append(os.path.abspath(os.path.join(os.getcwd(), \"..\")))\n",
    "from csv_validator.validator import PolarsValidator, PolarsReader, SlowerIterValidator, CsvReader, IterValidator, PandasReader, PandasValidator\n",
    "\n",
    "def create_benchmark():\n",
    "    with open(\"benchmark_1m.csv\", \"w\", newline=\"\") as f:\n",
    "        writer = csv.writer(f)\n",
    "        writer.writerow([\"a\", \"b\", \"c\"])\n",
    "        for i in range(1, 1000001):\n",
    "            a = i\n",
    "            b = f\"val{i}\"\n",
    "            c = round(random.uniform(1.0, 5.0), 2)\n",
    "            writer.writerow([a, b, c])\n",
    "\n",
    "class BenchmarkSchema(BaseModel):\n",
    "    a: int\n",
    "    b: str\n",
    "    c: float"
   ]
  },
  {
   "cell_type": "code",
   "execution_count": 6,
   "id": "9d4e3310",
   "metadata": {},
   "outputs": [],
   "source": [
    "create_benchmark()"
   ]
  },
  {
   "cell_type": "code",
   "execution_count": 8,
   "id": "72ef2b5b",
   "metadata": {},
   "outputs": [],
   "source": [
    "filename = \"benchmark_1m.csv\"\n",
    "pl_reader = PolarsReader(pl.read_csv(filename))\n",
    "pd_reader = PandasReader(pd.read_csv(filename))\n",
    "csv_reader = CsvReader(filename)"
   ]
  },
  {
   "cell_type": "code",
   "execution_count": 9,
   "id": "7c35b275",
   "metadata": {},
   "outputs": [
    {
     "name": "stdout",
     "output_type": "stream",
     "text": [
      "5.46 s ± 101 ms per loop (mean ± std. dev. of 7 runs, 1 loop each)\n"
     ]
    }
   ],
   "source": [
    "%%timeit\n",
    "validator = PandasValidator(BenchmarkSchema, pd_reader)\n",
    "validator.validate_all()"
   ]
  },
  {
   "cell_type": "code",
   "execution_count": 10,
   "id": "b854c1a4",
   "metadata": {},
   "outputs": [
    {
     "name": "stderr",
     "output_type": "stream",
     "text": [
      "/Users/thomasscelsi/Documents/programming/codex/src/csv_validator/validator.py:63: MapWithoutReturnDtypeWarning: Calling `map_elements` without specifying `return_dtype` can lead to unpredictable results. Specify `return_dtype` to silence this warning.\n",
      "  df = self.reader.read().with_columns(\n",
      "/Users/thomasscelsi/Documents/programming/codex/src/csv_validator/validator.py:63: MapWithoutReturnDtypeWarning: Calling `map_elements` without specifying `return_dtype` can lead to unpredictable results. Specify `return_dtype` to silence this warning.\n",
      "  df = self.reader.read().with_columns(\n",
      "/Users/thomasscelsi/Documents/programming/codex/src/csv_validator/validator.py:63: MapWithoutReturnDtypeWarning: Calling `map_elements` without specifying `return_dtype` can lead to unpredictable results. Specify `return_dtype` to silence this warning.\n",
      "  df = self.reader.read().with_columns(\n",
      "/Users/thomasscelsi/Documents/programming/codex/src/csv_validator/validator.py:63: MapWithoutReturnDtypeWarning: Calling `map_elements` without specifying `return_dtype` can lead to unpredictable results. Specify `return_dtype` to silence this warning.\n",
      "  df = self.reader.read().with_columns(\n",
      "/Users/thomasscelsi/Documents/programming/codex/src/csv_validator/validator.py:63: MapWithoutReturnDtypeWarning: Calling `map_elements` without specifying `return_dtype` can lead to unpredictable results. Specify `return_dtype` to silence this warning.\n",
      "  df = self.reader.read().with_columns(\n",
      "/Users/thomasscelsi/Documents/programming/codex/src/csv_validator/validator.py:63: MapWithoutReturnDtypeWarning: Calling `map_elements` without specifying `return_dtype` can lead to unpredictable results. Specify `return_dtype` to silence this warning.\n",
      "  df = self.reader.read().with_columns(\n",
      "/Users/thomasscelsi/Documents/programming/codex/src/csv_validator/validator.py:63: MapWithoutReturnDtypeWarning: Calling `map_elements` without specifying `return_dtype` can lead to unpredictable results. Specify `return_dtype` to silence this warning.\n",
      "  df = self.reader.read().with_columns(\n",
      "/Users/thomasscelsi/Documents/programming/codex/src/csv_validator/validator.py:63: MapWithoutReturnDtypeWarning: Calling `map_elements` without specifying `return_dtype` can lead to unpredictable results. Specify `return_dtype` to silence this warning.\n",
      "  df = self.reader.read().with_columns(\n"
     ]
    },
    {
     "name": "stdout",
     "output_type": "stream",
     "text": [
      "1.68 s ± 8.25 ms per loop (mean ± std. dev. of 7 runs, 1 loop each)\n"
     ]
    }
   ],
   "source": [
    "%%timeit\n",
    "validator = PolarsValidator(BenchmarkSchema, pl_reader)\n",
    "validator.validate_all()"
   ]
  },
  {
   "cell_type": "code",
   "execution_count": 11,
   "id": "c57edfcb",
   "metadata": {},
   "outputs": [
    {
     "name": "stdout",
     "output_type": "stream",
     "text": [
      "1.37 s ± 3.65 ms per loop (mean ± std. dev. of 7 runs, 1 loop each)\n"
     ]
    }
   ],
   "source": [
    "%%timeit\n",
    "validator = SlowerIterValidator(BenchmarkSchema, csv_reader)\n",
    "validator.validate_all()"
   ]
  },
  {
   "cell_type": "code",
   "execution_count": 12,
   "id": "cbc2aa66",
   "metadata": {},
   "outputs": [
    {
     "name": "stdout",
     "output_type": "stream",
     "text": [
      "1.22 s ± 8.51 ms per loop (mean ± std. dev. of 7 runs, 1 loop each)\n"
     ]
    }
   ],
   "source": [
    "%%timeit\n",
    "validator = IterValidator(BenchmarkSchema, csv_reader)\n",
    "validator.validate_all()"
   ]
  }
 ],
 "metadata": {
  "kernelspec": {
   "display_name": ".venv",
   "language": "python",
   "name": "python3"
  },
  "language_info": {
   "codemirror_mode": {
    "name": "ipython",
    "version": 3
   },
   "file_extension": ".py",
   "mimetype": "text/x-python",
   "name": "python",
   "nbconvert_exporter": "python",
   "pygments_lexer": "ipython3",
   "version": "3.12.4"
  }
 },
 "nbformat": 4,
 "nbformat_minor": 5
}
